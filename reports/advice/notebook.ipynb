{
 "cells": [
  {
   "cell_type": "code",
   "execution_count": 1,
   "metadata": {},
   "outputs": [],
   "source": [
    "import requests\n",
    "import pandas as pd\n",
    "import json\n",
    "import ast\n",
    "from fbprophet import Prophet\n",
    "%matplotlib inline"
   ]
  },
  {
   "cell_type": "code",
   "execution_count": 2,
   "metadata": {},
   "outputs": [],
   "source": [
    "starting = '2017-04-01'\n",
    "ending = '2019-04-30'\n",
    "url = 'https://alac.funde.org/api/v1/tickets'\n",
    "data = {\n",
    "    'api_key': 'OIRMFW9832O35432OIOFDWDW89342OIR923R8J2923',\n",
    "    'startdate': starting,\n",
    "    'enddate': ending,\n",
    "    'limit': 10000,\n",
    "    'page': 0\n",
    "}"
   ]
  },
  {
   "cell_type": "code",
   "execution_count": 3,
   "metadata": {},
   "outputs": [],
   "source": [
    "result = requests.post(url, data=data)\n",
    "content = json.loads(result.content)"
   ]
  },
  {
   "cell_type": "code",
   "execution_count": 4,
   "metadata": {},
   "outputs": [],
   "source": [
    "data = pd.DataFrame(content)"
   ]
  },
  {
   "cell_type": "code",
   "execution_count": 5,
   "metadata": {},
   "outputs": [
    {
     "data": {
      "text/plain": [
       "(275, 8)"
      ]
     },
     "execution_count": 5,
     "metadata": {},
     "output_type": "execute_result"
    }
   ],
   "source": [
    "data.shape"
   ]
  },
  {
   "cell_type": "code",
   "execution_count": 6,
   "metadata": {},
   "outputs": [
    {
     "data": {
      "text/plain": [
       "Index(['_id', 'date', 'email', 'msg', 'status', 'threads', 'ticket', 'year'], dtype='object')"
      ]
     },
     "execution_count": 6,
     "metadata": {},
     "output_type": "execute_result"
    }
   ],
   "source": [
    "data.columns"
   ]
  },
  {
   "cell_type": "code",
   "execution_count": 7,
   "metadata": {},
   "outputs": [],
   "source": [
    "data.rename(columns={'_id': 'ticket_id', 'msg': 'title'}, inplace=True)"
   ]
  },
  {
   "cell_type": "code",
   "execution_count": 8,
   "metadata": {},
   "outputs": [
    {
     "data": {
      "text/html": [
       "<div>\n",
       "<style scoped>\n",
       "    .dataframe tbody tr th:only-of-type {\n",
       "        vertical-align: middle;\n",
       "    }\n",
       "\n",
       "    .dataframe tbody tr th {\n",
       "        vertical-align: top;\n",
       "    }\n",
       "\n",
       "    .dataframe thead th {\n",
       "        text-align: right;\n",
       "    }\n",
       "</style>\n",
       "<table border=\"1\" class=\"dataframe\">\n",
       "  <thead>\n",
       "    <tr style=\"text-align: right;\">\n",
       "      <th></th>\n",
       "      <th>ticket_id</th>\n",
       "      <th>date</th>\n",
       "      <th>email</th>\n",
       "      <th>title</th>\n",
       "      <th>status</th>\n",
       "      <th>threads</th>\n",
       "      <th>ticket</th>\n",
       "      <th>year</th>\n",
       "    </tr>\n",
       "  </thead>\n",
       "  <tbody>\n",
       "    <tr>\n",
       "      <th>0</th>\n",
       "      <td>598b844ac56bd1322fccd1f7</td>\n",
       "      <td>2017-08-09</td>\n",
       "      <td>mabelquintanilla@hotmail.com</td>\n",
       "      <td>Nombramientos en cargos consulares y diplomáti...</td>\n",
       "      <td>closed</td>\n",
       "      <td>[{'_id': '598b844ac56bd1322fccd1f9', 'date': '...</td>\n",
       "      <td>1</td>\n",
       "      <td>2017</td>\n",
       "    </tr>\n",
       "    <tr>\n",
       "      <th>1</th>\n",
       "      <td>598cd532c56bd173069cc924</td>\n",
       "      <td>2017-08-10</td>\n",
       "      <td></td>\n",
       "      <td>PGR: Supuesta violación al derecho de acceso a...</td>\n",
       "      <td>closed</td>\n",
       "      <td>[{'_id': '598cd532c56bd173069cc926', 'date': '...</td>\n",
       "      <td>2</td>\n",
       "      <td>2017</td>\n",
       "    </tr>\n",
       "    <tr>\n",
       "      <th>2</th>\n",
       "      <td>598dec99c56bd173069cce48</td>\n",
       "      <td>2017-08-11</td>\n",
       "      <td>jessica.estrada@funde.org</td>\n",
       "      <td>Guía ciudadana que explica los pasos a seguir ...</td>\n",
       "      <td>closed</td>\n",
       "      <td>[{'_id': '598dec99c56bd173069cce4a', 'date': '...</td>\n",
       "      <td>3</td>\n",
       "      <td>2017</td>\n",
       "    </tr>\n",
       "    <tr>\n",
       "      <th>3</th>\n",
       "      <td>59933375c56bd10c5eeedb50</td>\n",
       "      <td>2017-08-15</td>\n",
       "      <td>claudia.marchesini@funde.org</td>\n",
       "      <td>Cumplimiento de LAIP en algunas municipalidade...</td>\n",
       "      <td>closed</td>\n",
       "      <td>[{'_id': '59933375c56bd10c5eeedb52', 'date': '...</td>\n",
       "      <td>4</td>\n",
       "      <td>2017</td>\n",
       "    </tr>\n",
       "    <tr>\n",
       "      <th>4</th>\n",
       "      <td>59a81d26ab3ab90a4c33972c</td>\n",
       "      <td>2017-08-31</td>\n",
       "      <td></td>\n",
       "      <td>ISSS.: Licitación pública 2Q17000037</td>\n",
       "      <td>closed</td>\n",
       "      <td>[{'_id': '59a81d26ab3ab90a4c33972e', 'date': '...</td>\n",
       "      <td>6</td>\n",
       "      <td>2017</td>\n",
       "    </tr>\n",
       "  </tbody>\n",
       "</table>\n",
       "</div>"
      ],
      "text/plain": [
       "                  ticket_id        date                         email  \\\n",
       "0  598b844ac56bd1322fccd1f7  2017-08-09  mabelquintanilla@hotmail.com   \n",
       "1  598cd532c56bd173069cc924  2017-08-10                                 \n",
       "2  598dec99c56bd173069cce48  2017-08-11     jessica.estrada@funde.org   \n",
       "3  59933375c56bd10c5eeedb50  2017-08-15  claudia.marchesini@funde.org   \n",
       "4  59a81d26ab3ab90a4c33972c  2017-08-31                                 \n",
       "\n",
       "                                               title  status  \\\n",
       "0  Nombramientos en cargos consulares y diplomáti...  closed   \n",
       "1  PGR: Supuesta violación al derecho de acceso a...  closed   \n",
       "2  Guía ciudadana que explica los pasos a seguir ...  closed   \n",
       "3  Cumplimiento de LAIP en algunas municipalidade...  closed   \n",
       "4               ISSS.: Licitación pública 2Q17000037  closed   \n",
       "\n",
       "                                             threads  ticket  year  \n",
       "0  [{'_id': '598b844ac56bd1322fccd1f9', 'date': '...       1  2017  \n",
       "1  [{'_id': '598cd532c56bd173069cc926', 'date': '...       2  2017  \n",
       "2  [{'_id': '598dec99c56bd173069cce4a', 'date': '...       3  2017  \n",
       "3  [{'_id': '59933375c56bd10c5eeedb52', 'date': '...       4  2017  \n",
       "4  [{'_id': '59a81d26ab3ab90a4c33972e', 'date': '...       6  2017  "
      ]
     },
     "execution_count": 8,
     "metadata": {},
     "output_type": "execute_result"
    }
   ],
   "source": [
    "data.head()"
   ]
  },
  {
   "cell_type": "code",
   "execution_count": 9,
   "metadata": {},
   "outputs": [],
   "source": [
    "aux = []\n",
    "for idx in range(len(data)):\n",
    "    row = data.iloc[idx]\n",
    "    aux += row.threads"
   ]
  },
  {
   "cell_type": "code",
   "execution_count": 10,
   "metadata": {},
   "outputs": [
    {
     "data": {
      "text/html": [
       "<div>\n",
       "<style scoped>\n",
       "    .dataframe tbody tr th:only-of-type {\n",
       "        vertical-align: middle;\n",
       "    }\n",
       "\n",
       "    .dataframe tbody tr th {\n",
       "        vertical-align: top;\n",
       "    }\n",
       "\n",
       "    .dataframe thead th {\n",
       "        text-align: right;\n",
       "    }\n",
       "</style>\n",
       "<table border=\"1\" class=\"dataframe\">\n",
       "  <thead>\n",
       "    <tr style=\"text-align: right;\">\n",
       "      <th></th>\n",
       "      <th>_id</th>\n",
       "      <th>date</th>\n",
       "      <th>msg</th>\n",
       "      <th>name</th>\n",
       "      <th>ticket_id</th>\n",
       "    </tr>\n",
       "  </thead>\n",
       "  <tbody>\n",
       "    <tr>\n",
       "      <th>1027</th>\n",
       "      <td>5cc764293b77507b7c29f65b</td>\n",
       "      <td>2019-04-29</td>\n",
       "      <td>¿Me ayudan? Quiero pedir datos relativos al Fo...</td>\n",
       "      <td></td>\n",
       "      <td>5cc764263b77507b7c29f658</td>\n",
       "    </tr>\n",
       "    <tr>\n",
       "      <th>1028</th>\n",
       "      <td>5cc8ab513b77507b7c2a20a0</td>\n",
       "      <td>2019-04-30</td>\n",
       "      <td>Usuaria compartió denuncia sobre manipulación ...</td>\n",
       "      <td>Jaime Lopez</td>\n",
       "      <td>5cc8ab4b3b77507b7c2a209d</td>\n",
       "    </tr>\n",
       "    <tr>\n",
       "      <th>1029</th>\n",
       "      <td>5cc8ac963b77507b7c2a20da</td>\n",
       "      <td>2019-04-30</td>\n",
       "      <td>Se atendió reunión con usuaria. Esta entregó c...</td>\n",
       "      <td>Jaime Lopez</td>\n",
       "      <td>5cc8ab4b3b77507b7c2a209d</td>\n",
       "    </tr>\n",
       "    <tr>\n",
       "      <th>1030</th>\n",
       "      <td>5cc8b1a13b77507b7c2a216f</td>\n",
       "      <td>2019-04-30</td>\n",
       "      <td>Usuario consultó por medio de Whatsapp sobre l...</td>\n",
       "      <td>Jaime Lopez</td>\n",
       "      <td>5cc8b1a03b77507b7c2a216c</td>\n",
       "    </tr>\n",
       "    <tr>\n",
       "      <th>1031</th>\n",
       "      <td>5cc8b1bd3b77507b7c2a2174</td>\n",
       "      <td>2019-04-30</td>\n",
       "      <td>Usuario envió imagen de la solicitud redactada...</td>\n",
       "      <td>Jaime Lopez</td>\n",
       "      <td>5cc8b1a03b77507b7c2a216c</td>\n",
       "    </tr>\n",
       "  </tbody>\n",
       "</table>\n",
       "</div>"
      ],
      "text/plain": [
       "                           _id        date  \\\n",
       "1027  5cc764293b77507b7c29f65b  2019-04-29   \n",
       "1028  5cc8ab513b77507b7c2a20a0  2019-04-30   \n",
       "1029  5cc8ac963b77507b7c2a20da  2019-04-30   \n",
       "1030  5cc8b1a13b77507b7c2a216f  2019-04-30   \n",
       "1031  5cc8b1bd3b77507b7c2a2174  2019-04-30   \n",
       "\n",
       "                                                    msg         name  \\\n",
       "1027  ¿Me ayudan? Quiero pedir datos relativos al Fo...                \n",
       "1028  Usuaria compartió denuncia sobre manipulación ...  Jaime Lopez   \n",
       "1029  Se atendió reunión con usuaria. Esta entregó c...  Jaime Lopez   \n",
       "1030  Usuario consultó por medio de Whatsapp sobre l...  Jaime Lopez   \n",
       "1031  Usuario envió imagen de la solicitud redactada...  Jaime Lopez   \n",
       "\n",
       "                     ticket_id  \n",
       "1027  5cc764263b77507b7c29f658  \n",
       "1028  5cc8ab4b3b77507b7c2a209d  \n",
       "1029  5cc8ab4b3b77507b7c2a209d  \n",
       "1030  5cc8b1a03b77507b7c2a216c  \n",
       "1031  5cc8b1a03b77507b7c2a216c  "
      ]
     },
     "execution_count": 10,
     "metadata": {},
     "output_type": "execute_result"
    }
   ],
   "source": [
    "threads = pd.DataFrame(aux)\n",
    "threads = threads[threads.date <= ending]\n",
    "threads.tail()"
   ]
  },
  {
   "cell_type": "code",
   "execution_count": 11,
   "metadata": {},
   "outputs": [
    {
     "data": {
      "text/html": [
       "<div>\n",
       "<style scoped>\n",
       "    .dataframe tbody tr th:only-of-type {\n",
       "        vertical-align: middle;\n",
       "    }\n",
       "\n",
       "    .dataframe tbody tr th {\n",
       "        vertical-align: top;\n",
       "    }\n",
       "\n",
       "    .dataframe thead th {\n",
       "        text-align: right;\n",
       "    }\n",
       "</style>\n",
       "<table border=\"1\" class=\"dataframe\">\n",
       "  <thead>\n",
       "    <tr style=\"text-align: right;\">\n",
       "      <th></th>\n",
       "      <th>_id</th>\n",
       "      <th>date</th>\n",
       "      <th>msg</th>\n",
       "      <th>name</th>\n",
       "      <th>ticket_id</th>\n",
       "      <th>ticket</th>\n",
       "      <th>year</th>\n",
       "      <th>title</th>\n",
       "      <th>status</th>\n",
       "      <th>month</th>\n",
       "    </tr>\n",
       "  </thead>\n",
       "  <tbody>\n",
       "    <tr>\n",
       "      <th>0</th>\n",
       "      <td>598b844ac56bd1322fccd1f9</td>\n",
       "      <td>2017-08-09</td>\n",
       "      <td>El/la usuario/a solicitó acompañamiento para a...</td>\n",
       "      <td>Jaime Lopez</td>\n",
       "      <td>598b844ac56bd1322fccd1f7</td>\n",
       "      <td>1</td>\n",
       "      <td>2017</td>\n",
       "      <td>Nombramientos en cargos consulares y diplomáti...</td>\n",
       "      <td>closed</td>\n",
       "      <td>2017-08</td>\n",
       "    </tr>\n",
       "    <tr>\n",
       "      <th>1</th>\n",
       "      <td>598b8561c56bd15fcb42bd06</td>\n",
       "      <td>2017-08-09</td>\n",
       "      <td>El Ministerio de Relaciones Exteriores entregó...</td>\n",
       "      <td>Jaime Lopez</td>\n",
       "      <td>598b844ac56bd1322fccd1f7</td>\n",
       "      <td>1</td>\n",
       "      <td>2017</td>\n",
       "      <td>Nombramientos en cargos consulares y diplomáti...</td>\n",
       "      <td>closed</td>\n",
       "      <td>2017-08</td>\n",
       "    </tr>\n",
       "    <tr>\n",
       "      <th>2</th>\n",
       "      <td>598b85ddc56bd15fcb42bd18</td>\n",
       "      <td>2017-08-09</td>\n",
       "      <td>El Ministerio de Relaciones Exteriores entregó...</td>\n",
       "      <td>Jaime Lopez</td>\n",
       "      <td>598b844ac56bd1322fccd1f7</td>\n",
       "      <td>1</td>\n",
       "      <td>2017</td>\n",
       "      <td>Nombramientos en cargos consulares y diplomáti...</td>\n",
       "      <td>closed</td>\n",
       "      <td>2017-08</td>\n",
       "    </tr>\n",
       "    <tr>\n",
       "      <th>3</th>\n",
       "      <td>598c659ec56bd173069cbf6d</td>\n",
       "      <td>2017-08-10</td>\n",
       "      <td>Se agregan los documentos relacionados con el ...</td>\n",
       "      <td>Jaime Lopez</td>\n",
       "      <td>598b844ac56bd1322fccd1f7</td>\n",
       "      <td>1</td>\n",
       "      <td>2017</td>\n",
       "      <td>Nombramientos en cargos consulares y diplomáti...</td>\n",
       "      <td>closed</td>\n",
       "      <td>2017-08</td>\n",
       "    </tr>\n",
       "    <tr>\n",
       "      <th>4</th>\n",
       "      <td>598c65e9c56bd173069cbf86</td>\n",
       "      <td>2017-08-10</td>\n",
       "      <td>Complemento de mensaje anterior.</td>\n",
       "      <td>Jaime Lopez</td>\n",
       "      <td>598b844ac56bd1322fccd1f7</td>\n",
       "      <td>1</td>\n",
       "      <td>2017</td>\n",
       "      <td>Nombramientos en cargos consulares y diplomáti...</td>\n",
       "      <td>closed</td>\n",
       "      <td>2017-08</td>\n",
       "    </tr>\n",
       "  </tbody>\n",
       "</table>\n",
       "</div>"
      ],
      "text/plain": [
       "                        _id        date  \\\n",
       "0  598b844ac56bd1322fccd1f9  2017-08-09   \n",
       "1  598b8561c56bd15fcb42bd06  2017-08-09   \n",
       "2  598b85ddc56bd15fcb42bd18  2017-08-09   \n",
       "3  598c659ec56bd173069cbf6d  2017-08-10   \n",
       "4  598c65e9c56bd173069cbf86  2017-08-10   \n",
       "\n",
       "                                                 msg         name  \\\n",
       "0  El/la usuario/a solicitó acompañamiento para a...  Jaime Lopez   \n",
       "1  El Ministerio de Relaciones Exteriores entregó...  Jaime Lopez   \n",
       "2  El Ministerio de Relaciones Exteriores entregó...  Jaime Lopez   \n",
       "3  Se agregan los documentos relacionados con el ...  Jaime Lopez   \n",
       "4                   Complemento de mensaje anterior.  Jaime Lopez   \n",
       "\n",
       "                  ticket_id  ticket  year  \\\n",
       "0  598b844ac56bd1322fccd1f7       1  2017   \n",
       "1  598b844ac56bd1322fccd1f7       1  2017   \n",
       "2  598b844ac56bd1322fccd1f7       1  2017   \n",
       "3  598b844ac56bd1322fccd1f7       1  2017   \n",
       "4  598b844ac56bd1322fccd1f7       1  2017   \n",
       "\n",
       "                                               title  status    month  \n",
       "0  Nombramientos en cargos consulares y diplomáti...  closed  2017-08  \n",
       "1  Nombramientos en cargos consulares y diplomáti...  closed  2017-08  \n",
       "2  Nombramientos en cargos consulares y diplomáti...  closed  2017-08  \n",
       "3  Nombramientos en cargos consulares y diplomáti...  closed  2017-08  \n",
       "4  Nombramientos en cargos consulares y diplomáti...  closed  2017-08  "
      ]
     },
     "execution_count": 11,
     "metadata": {},
     "output_type": "execute_result"
    }
   ],
   "source": [
    "threads = threads.merge(data[['ticket_id', 'ticket', 'year', 'title', 'status']], on='ticket_id', how='left')\n",
    "threads['month'] = threads.date.apply(lambda x: str(x)[:7])\n",
    "threads.head()"
   ]
  },
  {
   "cell_type": "code",
   "execution_count": 12,
   "metadata": {},
   "outputs": [
    {
     "data": {
      "text/html": [
       "<div>\n",
       "<style scoped>\n",
       "    .dataframe tbody tr th:only-of-type {\n",
       "        vertical-align: middle;\n",
       "    }\n",
       "\n",
       "    .dataframe tbody tr th {\n",
       "        vertical-align: top;\n",
       "    }\n",
       "\n",
       "    .dataframe thead th {\n",
       "        text-align: right;\n",
       "    }\n",
       "</style>\n",
       "<table border=\"1\" class=\"dataframe\">\n",
       "  <thead>\n",
       "    <tr style=\"text-align: right;\">\n",
       "      <th>status</th>\n",
       "      <th>closed</th>\n",
       "      <th>openned</th>\n",
       "      <th>total</th>\n",
       "    </tr>\n",
       "    <tr>\n",
       "      <th>month</th>\n",
       "      <th></th>\n",
       "      <th></th>\n",
       "      <th></th>\n",
       "    </tr>\n",
       "  </thead>\n",
       "  <tbody>\n",
       "    <tr>\n",
       "      <th>2017-08</th>\n",
       "      <td>23.0</td>\n",
       "      <td>0.0</td>\n",
       "      <td>23.0</td>\n",
       "    </tr>\n",
       "    <tr>\n",
       "      <th>2017-09</th>\n",
       "      <td>24.0</td>\n",
       "      <td>0.0</td>\n",
       "      <td>24.0</td>\n",
       "    </tr>\n",
       "    <tr>\n",
       "      <th>2017-10</th>\n",
       "      <td>22.0</td>\n",
       "      <td>0.0</td>\n",
       "      <td>22.0</td>\n",
       "    </tr>\n",
       "    <tr>\n",
       "      <th>2017-11</th>\n",
       "      <td>11.0</td>\n",
       "      <td>6.0</td>\n",
       "      <td>17.0</td>\n",
       "    </tr>\n",
       "    <tr>\n",
       "      <th>2017-12</th>\n",
       "      <td>52.0</td>\n",
       "      <td>4.0</td>\n",
       "      <td>56.0</td>\n",
       "    </tr>\n",
       "    <tr>\n",
       "      <th>2018-01</th>\n",
       "      <td>33.0</td>\n",
       "      <td>16.0</td>\n",
       "      <td>49.0</td>\n",
       "    </tr>\n",
       "    <tr>\n",
       "      <th>2018-02</th>\n",
       "      <td>34.0</td>\n",
       "      <td>14.0</td>\n",
       "      <td>48.0</td>\n",
       "    </tr>\n",
       "    <tr>\n",
       "      <th>2018-03</th>\n",
       "      <td>34.0</td>\n",
       "      <td>27.0</td>\n",
       "      <td>61.0</td>\n",
       "    </tr>\n",
       "    <tr>\n",
       "      <th>2018-04</th>\n",
       "      <td>38.0</td>\n",
       "      <td>9.0</td>\n",
       "      <td>47.0</td>\n",
       "    </tr>\n",
       "    <tr>\n",
       "      <th>2018-05</th>\n",
       "      <td>30.0</td>\n",
       "      <td>26.0</td>\n",
       "      <td>56.0</td>\n",
       "    </tr>\n",
       "    <tr>\n",
       "      <th>2018-06</th>\n",
       "      <td>39.0</td>\n",
       "      <td>37.0</td>\n",
       "      <td>76.0</td>\n",
       "    </tr>\n",
       "    <tr>\n",
       "      <th>2018-07</th>\n",
       "      <td>22.0</td>\n",
       "      <td>29.0</td>\n",
       "      <td>51.0</td>\n",
       "    </tr>\n",
       "    <tr>\n",
       "      <th>2018-08</th>\n",
       "      <td>42.0</td>\n",
       "      <td>32.0</td>\n",
       "      <td>74.0</td>\n",
       "    </tr>\n",
       "    <tr>\n",
       "      <th>2018-09</th>\n",
       "      <td>32.0</td>\n",
       "      <td>17.0</td>\n",
       "      <td>49.0</td>\n",
       "    </tr>\n",
       "    <tr>\n",
       "      <th>2018-10</th>\n",
       "      <td>42.0</td>\n",
       "      <td>41.0</td>\n",
       "      <td>83.0</td>\n",
       "    </tr>\n",
       "    <tr>\n",
       "      <th>2018-11</th>\n",
       "      <td>46.0</td>\n",
       "      <td>28.0</td>\n",
       "      <td>74.0</td>\n",
       "    </tr>\n",
       "    <tr>\n",
       "      <th>2018-12</th>\n",
       "      <td>19.0</td>\n",
       "      <td>3.0</td>\n",
       "      <td>22.0</td>\n",
       "    </tr>\n",
       "    <tr>\n",
       "      <th>2019-01</th>\n",
       "      <td>12.0</td>\n",
       "      <td>20.0</td>\n",
       "      <td>32.0</td>\n",
       "    </tr>\n",
       "    <tr>\n",
       "      <th>2019-02</th>\n",
       "      <td>11.0</td>\n",
       "      <td>15.0</td>\n",
       "      <td>26.0</td>\n",
       "    </tr>\n",
       "    <tr>\n",
       "      <th>2019-03</th>\n",
       "      <td>30.0</td>\n",
       "      <td>40.0</td>\n",
       "      <td>70.0</td>\n",
       "    </tr>\n",
       "    <tr>\n",
       "      <th>2019-04</th>\n",
       "      <td>36.0</td>\n",
       "      <td>36.0</td>\n",
       "      <td>72.0</td>\n",
       "    </tr>\n",
       "  </tbody>\n",
       "</table>\n",
       "</div>"
      ],
      "text/plain": [
       "status   closed  openned  total\n",
       "month                          \n",
       "2017-08    23.0      0.0   23.0\n",
       "2017-09    24.0      0.0   24.0\n",
       "2017-10    22.0      0.0   22.0\n",
       "2017-11    11.0      6.0   17.0\n",
       "2017-12    52.0      4.0   56.0\n",
       "2018-01    33.0     16.0   49.0\n",
       "2018-02    34.0     14.0   48.0\n",
       "2018-03    34.0     27.0   61.0\n",
       "2018-04    38.0      9.0   47.0\n",
       "2018-05    30.0     26.0   56.0\n",
       "2018-06    39.0     37.0   76.0\n",
       "2018-07    22.0     29.0   51.0\n",
       "2018-08    42.0     32.0   74.0\n",
       "2018-09    32.0     17.0   49.0\n",
       "2018-10    42.0     41.0   83.0\n",
       "2018-11    46.0     28.0   74.0\n",
       "2018-12    19.0      3.0   22.0\n",
       "2019-01    12.0     20.0   32.0\n",
       "2019-02    11.0     15.0   26.0\n",
       "2019-03    30.0     40.0   70.0\n",
       "2019-04    36.0     36.0   72.0"
      ]
     },
     "execution_count": 12,
     "metadata": {},
     "output_type": "execute_result"
    }
   ],
   "source": [
    "aux = threads.groupby(['month', 'status']).count()['_id'].fillna(0).reset_index()\n",
    "by_month = pd.crosstab(aux.month, aux.status, aux._id, aggfunc=sum).fillna(0)\n",
    "by_month['total'] = by_month['closed'] + by_month['openned']\n",
    "by_month"
   ]
  },
  {
   "cell_type": "code",
   "execution_count": 13,
   "metadata": {},
   "outputs": [
    {
     "data": {
      "text/plain": [
       "status\n",
       "closed      632.0\n",
       "openned     400.0\n",
       "total      1032.0\n",
       "dtype: float64"
      ]
     },
     "execution_count": 13,
     "metadata": {},
     "output_type": "execute_result"
    }
   ],
   "source": [
    "by_month.sum()"
   ]
  },
  {
   "cell_type": "code",
   "execution_count": 14,
   "metadata": {},
   "outputs": [
    {
     "data": {
      "text/plain": [
       "<matplotlib.axes._subplots.AxesSubplot at 0x7fe5c85c5358>"
      ]
     },
     "execution_count": 14,
     "metadata": {},
     "output_type": "execute_result"
    },
    {
     "data": {
      "image/png": "[encoded data removed]",
      "text/plain": [
       "<Figure size 1152x648 with 1 Axes>"
      ]
     },
     "metadata": {
      "needs_background": "light"
     },
     "output_type": "display_data"
    }
   ],
   "source": [
    "by_month[['closed', 'openned']].plot(kind='bar', stacked=True, figsize=(16,9), alpha=0.5)"
   ]
  },
  {
   "cell_type": "code",
   "execution_count": 15,
   "metadata": {},
   "outputs": [
    {
     "data": {
      "text/plain": [
       "Index(['_id', 'date', 'msg', 'name', 'ticket_id', 'ticket', 'year', 'title',\n",
       "       'status', 'month'],\n",
       "      dtype='object')"
      ]
     },
     "execution_count": 15,
     "metadata": {},
     "output_type": "execute_result"
    }
   ],
   "source": [
    "threads.columns"
   ]
  },
  {
   "cell_type": "code",
   "execution_count": 16,
   "metadata": {},
   "outputs": [],
   "source": [
    "output = threads\n",
    "output['msg'] = threads['msg'].apply(lambda x: str(x)[0:63].replace('\\n', ' ').replace('\\r', '').strip())\n",
    "output['title'] = threads['title'].apply(lambda x: str(x).replace('\\n', ' ').replace('\\r', '').strip())"
   ]
  },
  {
   "cell_type": "code",
   "execution_count": 17,
   "metadata": {},
   "outputs": [],
   "source": [
    "output[['year', 'ticket', 'date', 'title', 'msg', 'status']].sort_values('date').to_csv('output_tickets.csv', index=False)"
   ]
  },
  {
   "cell_type": "markdown",
   "metadata": {},
   "source": [
    "## Forecast"
   ]
  },
  {
   "cell_type": "code",
   "execution_count": 23,
   "metadata": {},
   "outputs": [
    {
     "data": {
      "text/plain": [
       "<matplotlib.axes._subplots.AxesSubplot at 0x7fe5c7839240>"
      ]
     },
     "execution_count": 23,
     "metadata": {},
     "output_type": "execute_result"
    },
    {
     "data": {
      "image/png": "[encoded data removed]",
      "text/plain": [
       "<Figure size 432x288 with 1 Axes>"
      ]
     },
     "metadata": {
      "needs_background": "light"
     },
     "output_type": "display_data"
    }
   ],
   "source": [
    "by_day = threads.groupby('date').count()['_id'].reset_index()\n",
    "by_day.rename(columns={'date': 'ds', '_id': 'y'}, inplace=True)\n",
    "by_day.plot()"
   ]
  },
  {
   "cell_type": "code",
   "execution_count": 24,
   "metadata": {},
   "outputs": [
    {
     "name": "stderr",
     "output_type": "stream",
     "text": [
      "/usr/lib/python3.7/site-packages/fbprophet/forecaster.py:880: FutureWarning: Series.nonzero() is deprecated and will be removed in a future version.Use Series.to_numpy().nonzero() instead\n",
      "  min_dt = dt.iloc[dt.nonzero()[0]].min()\n",
      "INFO:fbprophet:Disabling yearly seasonality. Run prophet with yearly_seasonality=True to override this.\n",
      "INFO:fbprophet:Disabling daily seasonality. Run prophet with daily_seasonality=True to override this.\n"
     ]
    },
    {
     "data": {
      "text/plain": [
       "<fbprophet.forecaster.Prophet at 0x7fe5c787fdd8>"
      ]
     },
     "execution_count": 24,
     "metadata": {},
     "output_type": "execute_result"
    }
   ],
   "source": [
    "m = Prophet()\n",
    "m.fit(by_day)"
   ]
  },
  {
   "cell_type": "code",
   "execution_count": 25,
   "metadata": {},
   "outputs": [],
   "source": [
    "future = m.make_future_dataframe(periods=180)\n",
    "forecast = m.predict(future)"
   ]
  },
  {
   "cell_type": "code",
   "execution_count": 30,
   "metadata": {},
   "outputs": [
    {
     "data": {
      "image/png": "[encoded data removed]",
      "text/plain": [
       "<Figure size 720x432 with 1 Axes>"
      ]
     },
     "metadata": {},
     "output_type": "display_data"
    }
   ],
   "source": [
    "f = m.plot(forecast)"
   ]
  },
  {
   "cell_type": "code",
   "execution_count": 31,
   "metadata": {},
   "outputs": [],
   "source": [
    "f.savefig('forecast.png')"
   ]
  },
  {
   "cell_type": "code",
   "execution_count": null,
   "metadata": {},
   "outputs": [],
   "source": []
  }
 ],
 "metadata": {
  "kernelspec": {
   "display_name": "Python 3",
   "language": "python",
   "name": "python3"
  },
  "language_info": {
   "codemirror_mode": {
    "name": "ipython",
    "version": 3
   },
   "file_extension": ".py",
   "mimetype": "text/x-python",
   "name": "python",
   "nbconvert_exporter": "python",
   "pygments_lexer": "ipython3",
   "version": "3.7.3"
  }
 },
 "nbformat": 4,
 "nbformat_minor": 2
}
